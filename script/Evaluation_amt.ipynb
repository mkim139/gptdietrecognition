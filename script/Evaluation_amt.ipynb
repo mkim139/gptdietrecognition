{
 "cells": [
  {
   "cell_type": "code",
   "execution_count": 1,
   "metadata": {},
   "outputs": [
    {
     "name": "stdout",
     "output_type": "stream",
     "text": [
      "Populating the interactive namespace from numpy and matplotlib\n",
      "using cached model\n",
      "using cached model\n",
      "using cached model\n"
     ]
    }
   ],
   "source": [
    "%pylab inline\n",
    "import pandas as pd\n",
    "import torch\n",
    "from torch import nn\n",
    "import torch.nn.functional as F\n",
    "import torch.optim as optim\n",
    "import gluonnlp as nlp\n",
    "import numpy as np\n",
    "from torch.utils.data import Dataset, DataLoader\n",
    "from kogpt2.pytorch_kogpt2 import get_pytorch_kogpt2_model\n",
    "from gluonnlp.data import SentencepieceTokenizer\n",
    "from kogpt2.utils import get_tokenizer\n",
    "from tqdm import tqdm, tqdm_notebook\n",
    "from transformers import AdamW\n",
    "from transformers.optimization import WarmupLinearSchedule\n",
    "\n",
    "tok_path = get_tokenizer()\n",
    "gpt, vocab = get_pytorch_kogpt2_model()\n",
    "tok = SentencepieceTokenizer(tok_path,  num_best=0, alpha=0)"
   ]
  },
  {
   "cell_type": "code",
   "execution_count": 2,
   "metadata": {},
   "outputs": [],
   "source": [
    "import random as rd"
   ]
  },
  {
   "cell_type": "code",
   "execution_count": 6,
   "metadata": {},
   "outputs": [],
   "source": [
    "#device = torch.device(\"cuda:0\")\n",
    "device = torch.device(\"cpu\")"
   ]
  },
  {
   "cell_type": "code",
   "execution_count": 3,
   "metadata": {},
   "outputs": [],
   "source": [
    "dataset = pd.read_csv('C:/Users/mskim3/Desktop/식단인식_알고리즘/data/fe_test2.csv',encoding='cp949').iloc[:,1:]"
   ]
  },
  {
   "cell_type": "code",
   "execution_count": 4,
   "metadata": {},
   "outputs": [],
   "source": [
    "class GPT2summarizer(nn.Module):\n",
    "    def __init__(self, gpt):\n",
    "        super(GPT2summarizer, self).__init__()\n",
    "        self.gpt = gpt\n",
    "\n",
    "    def forward(self, ids):\n",
    "        out = self.gpt(ids)\n",
    "\n",
    "        return out"
   ]
  },
  {
   "cell_type": "code",
   "execution_count": 7,
   "metadata": {
    "collapsed": true
   },
   "outputs": [
    {
     "data": {
      "text/plain": [
       "GPT2summarizer(\n",
       "  (gpt): GPT2LMHeadModel(\n",
       "    (transformer): GPT2Model(\n",
       "      (wte): Embedding(50000, 768)\n",
       "      (wpe): Embedding(1024, 768)\n",
       "      (drop): Dropout(p=0.1, inplace=False)\n",
       "      (h): ModuleList(\n",
       "        (0): Block(\n",
       "          (ln_1): LayerNorm((768,), eps=1e-05, elementwise_affine=True)\n",
       "          (attn): Attention(\n",
       "            (c_attn): Conv1D()\n",
       "            (c_proj): Conv1D()\n",
       "            (attn_dropout): Dropout(p=0.1, inplace=False)\n",
       "            (resid_dropout): Dropout(p=0.1, inplace=False)\n",
       "          )\n",
       "          (ln_2): LayerNorm((768,), eps=1e-05, elementwise_affine=True)\n",
       "          (mlp): MLP(\n",
       "            (c_fc): Conv1D()\n",
       "            (c_proj): Conv1D()\n",
       "            (dropout): Dropout(p=0.1, inplace=False)\n",
       "          )\n",
       "        )\n",
       "        (1): Block(\n",
       "          (ln_1): LayerNorm((768,), eps=1e-05, elementwise_affine=True)\n",
       "          (attn): Attention(\n",
       "            (c_attn): Conv1D()\n",
       "            (c_proj): Conv1D()\n",
       "            (attn_dropout): Dropout(p=0.1, inplace=False)\n",
       "            (resid_dropout): Dropout(p=0.1, inplace=False)\n",
       "          )\n",
       "          (ln_2): LayerNorm((768,), eps=1e-05, elementwise_affine=True)\n",
       "          (mlp): MLP(\n",
       "            (c_fc): Conv1D()\n",
       "            (c_proj): Conv1D()\n",
       "            (dropout): Dropout(p=0.1, inplace=False)\n",
       "          )\n",
       "        )\n",
       "        (2): Block(\n",
       "          (ln_1): LayerNorm((768,), eps=1e-05, elementwise_affine=True)\n",
       "          (attn): Attention(\n",
       "            (c_attn): Conv1D()\n",
       "            (c_proj): Conv1D()\n",
       "            (attn_dropout): Dropout(p=0.1, inplace=False)\n",
       "            (resid_dropout): Dropout(p=0.1, inplace=False)\n",
       "          )\n",
       "          (ln_2): LayerNorm((768,), eps=1e-05, elementwise_affine=True)\n",
       "          (mlp): MLP(\n",
       "            (c_fc): Conv1D()\n",
       "            (c_proj): Conv1D()\n",
       "            (dropout): Dropout(p=0.1, inplace=False)\n",
       "          )\n",
       "        )\n",
       "        (3): Block(\n",
       "          (ln_1): LayerNorm((768,), eps=1e-05, elementwise_affine=True)\n",
       "          (attn): Attention(\n",
       "            (c_attn): Conv1D()\n",
       "            (c_proj): Conv1D()\n",
       "            (attn_dropout): Dropout(p=0.1, inplace=False)\n",
       "            (resid_dropout): Dropout(p=0.1, inplace=False)\n",
       "          )\n",
       "          (ln_2): LayerNorm((768,), eps=1e-05, elementwise_affine=True)\n",
       "          (mlp): MLP(\n",
       "            (c_fc): Conv1D()\n",
       "            (c_proj): Conv1D()\n",
       "            (dropout): Dropout(p=0.1, inplace=False)\n",
       "          )\n",
       "        )\n",
       "        (4): Block(\n",
       "          (ln_1): LayerNorm((768,), eps=1e-05, elementwise_affine=True)\n",
       "          (attn): Attention(\n",
       "            (c_attn): Conv1D()\n",
       "            (c_proj): Conv1D()\n",
       "            (attn_dropout): Dropout(p=0.1, inplace=False)\n",
       "            (resid_dropout): Dropout(p=0.1, inplace=False)\n",
       "          )\n",
       "          (ln_2): LayerNorm((768,), eps=1e-05, elementwise_affine=True)\n",
       "          (mlp): MLP(\n",
       "            (c_fc): Conv1D()\n",
       "            (c_proj): Conv1D()\n",
       "            (dropout): Dropout(p=0.1, inplace=False)\n",
       "          )\n",
       "        )\n",
       "        (5): Block(\n",
       "          (ln_1): LayerNorm((768,), eps=1e-05, elementwise_affine=True)\n",
       "          (attn): Attention(\n",
       "            (c_attn): Conv1D()\n",
       "            (c_proj): Conv1D()\n",
       "            (attn_dropout): Dropout(p=0.1, inplace=False)\n",
       "            (resid_dropout): Dropout(p=0.1, inplace=False)\n",
       "          )\n",
       "          (ln_2): LayerNorm((768,), eps=1e-05, elementwise_affine=True)\n",
       "          (mlp): MLP(\n",
       "            (c_fc): Conv1D()\n",
       "            (c_proj): Conv1D()\n",
       "            (dropout): Dropout(p=0.1, inplace=False)\n",
       "          )\n",
       "        )\n",
       "        (6): Block(\n",
       "          (ln_1): LayerNorm((768,), eps=1e-05, elementwise_affine=True)\n",
       "          (attn): Attention(\n",
       "            (c_attn): Conv1D()\n",
       "            (c_proj): Conv1D()\n",
       "            (attn_dropout): Dropout(p=0.1, inplace=False)\n",
       "            (resid_dropout): Dropout(p=0.1, inplace=False)\n",
       "          )\n",
       "          (ln_2): LayerNorm((768,), eps=1e-05, elementwise_affine=True)\n",
       "          (mlp): MLP(\n",
       "            (c_fc): Conv1D()\n",
       "            (c_proj): Conv1D()\n",
       "            (dropout): Dropout(p=0.1, inplace=False)\n",
       "          )\n",
       "        )\n",
       "        (7): Block(\n",
       "          (ln_1): LayerNorm((768,), eps=1e-05, elementwise_affine=True)\n",
       "          (attn): Attention(\n",
       "            (c_attn): Conv1D()\n",
       "            (c_proj): Conv1D()\n",
       "            (attn_dropout): Dropout(p=0.1, inplace=False)\n",
       "            (resid_dropout): Dropout(p=0.1, inplace=False)\n",
       "          )\n",
       "          (ln_2): LayerNorm((768,), eps=1e-05, elementwise_affine=True)\n",
       "          (mlp): MLP(\n",
       "            (c_fc): Conv1D()\n",
       "            (c_proj): Conv1D()\n",
       "            (dropout): Dropout(p=0.1, inplace=False)\n",
       "          )\n",
       "        )\n",
       "        (8): Block(\n",
       "          (ln_1): LayerNorm((768,), eps=1e-05, elementwise_affine=True)\n",
       "          (attn): Attention(\n",
       "            (c_attn): Conv1D()\n",
       "            (c_proj): Conv1D()\n",
       "            (attn_dropout): Dropout(p=0.1, inplace=False)\n",
       "            (resid_dropout): Dropout(p=0.1, inplace=False)\n",
       "          )\n",
       "          (ln_2): LayerNorm((768,), eps=1e-05, elementwise_affine=True)\n",
       "          (mlp): MLP(\n",
       "            (c_fc): Conv1D()\n",
       "            (c_proj): Conv1D()\n",
       "            (dropout): Dropout(p=0.1, inplace=False)\n",
       "          )\n",
       "        )\n",
       "        (9): Block(\n",
       "          (ln_1): LayerNorm((768,), eps=1e-05, elementwise_affine=True)\n",
       "          (attn): Attention(\n",
       "            (c_attn): Conv1D()\n",
       "            (c_proj): Conv1D()\n",
       "            (attn_dropout): Dropout(p=0.1, inplace=False)\n",
       "            (resid_dropout): Dropout(p=0.1, inplace=False)\n",
       "          )\n",
       "          (ln_2): LayerNorm((768,), eps=1e-05, elementwise_affine=True)\n",
       "          (mlp): MLP(\n",
       "            (c_fc): Conv1D()\n",
       "            (c_proj): Conv1D()\n",
       "            (dropout): Dropout(p=0.1, inplace=False)\n",
       "          )\n",
       "        )\n",
       "        (10): Block(\n",
       "          (ln_1): LayerNorm((768,), eps=1e-05, elementwise_affine=True)\n",
       "          (attn): Attention(\n",
       "            (c_attn): Conv1D()\n",
       "            (c_proj): Conv1D()\n",
       "            (attn_dropout): Dropout(p=0.1, inplace=False)\n",
       "            (resid_dropout): Dropout(p=0.1, inplace=False)\n",
       "          )\n",
       "          (ln_2): LayerNorm((768,), eps=1e-05, elementwise_affine=True)\n",
       "          (mlp): MLP(\n",
       "            (c_fc): Conv1D()\n",
       "            (c_proj): Conv1D()\n",
       "            (dropout): Dropout(p=0.1, inplace=False)\n",
       "          )\n",
       "        )\n",
       "        (11): Block(\n",
       "          (ln_1): LayerNorm((768,), eps=1e-05, elementwise_affine=True)\n",
       "          (attn): Attention(\n",
       "            (c_attn): Conv1D()\n",
       "            (c_proj): Conv1D()\n",
       "            (attn_dropout): Dropout(p=0.1, inplace=False)\n",
       "            (resid_dropout): Dropout(p=0.1, inplace=False)\n",
       "          )\n",
       "          (ln_2): LayerNorm((768,), eps=1e-05, elementwise_affine=True)\n",
       "          (mlp): MLP(\n",
       "            (c_fc): Conv1D()\n",
       "            (c_proj): Conv1D()\n",
       "            (dropout): Dropout(p=0.1, inplace=False)\n",
       "          )\n",
       "        )\n",
       "      )\n",
       "      (ln_f): LayerNorm((768,), eps=1e-05, elementwise_affine=True)\n",
       "    )\n",
       "    (lm_head): Linear(in_features=768, out_features=50000, bias=False)\n",
       "  )\n",
       ")"
      ]
     },
     "execution_count": 7,
     "metadata": {},
     "output_type": "execute_result"
    }
   ],
   "source": [
    "model = GPT2summarizer(gpt).to(device)\n",
    "model.load_state_dict(torch.load('C:/Users/mskim3/Desktop/식단인식_알고리즘/model/GPT2_Food_amt.pth', map_location=device))\n",
    "model.eval()"
   ]
  },
  {
   "cell_type": "code",
   "execution_count": 8,
   "metadata": {},
   "outputs": [],
   "source": [
    "def exampler():\n",
    "    sent = dataset['sent'].iloc[rd.choice(range(6250))] \n",
    "    toked = tok(sent)\n",
    "    linp = [vocab[vocab.bos_token],]  + vocab[toked] + [vocab[vocab.eos_token]] + [vocab['<sys>']]\n",
    "    inp = torch.tensor(linp)\n",
    "    i=0\n",
    "    while i < 50:\n",
    "        pred = model(inp)[0]\n",
    "        predi = torch.argmax(pred[-1]).item()\n",
    "        if predi == vocab[vocab.eos_token]:\n",
    "            break\n",
    "        linp = linp + [predi]\n",
    "        inp = torch.tensor(linp)\n",
    "    #finalsent = vocab.to_tokens(linp)\n",
    "    foodlist = []\n",
    "    amtlist = []\n",
    "    timelist = []\n",
    "    for i in range(len(np.where(np.array(linp)==7)[0])):\n",
    "        si = np.where(np.array(linp)==7)[0][i]\n",
    "        ei = np.where(np.array(linp)==8)[0][i]\n",
    "        foodlist.append(''.join(vocab.to_tokens(linp[si+1:ei])).replace('▁',' ').strip())\n",
    "    for i in range(len(np.where(np.array(linp)==9)[0])):\n",
    "        si = np.where(np.array(linp)==9)[0][i]\n",
    "        ei = np.where(np.array(linp)==10)[0][i]\n",
    "        amtlist.append(''.join(vocab.to_tokens(linp[si+1:ei])).replace('▁',' ').strip())\n",
    "    for i in range(len(np.where(np.array(linp)==11)[0])):\n",
    "        si = np.where(np.array(linp)==11)[0][i]\n",
    "        ei = np.where(np.array(linp)==12)[0][i]\n",
    "        timelist.append(''.join(vocab.to_tokens(linp[si+1:ei])).replace('▁',' ').strip())\n",
    "    print('입력: ', sent)\n",
    "    print('먹은 음식: ', foodlist)\n",
    "    print('양: ', amtlist)\n",
    "    print('시기: ', timelist)\n",
    "    #print('실제 Output:')\n",
    "    #print(''.join(vocab.to_tokens(linp)).replace('▁',' ').strip())"
   ]
  },
  {
   "cell_type": "code",
   "execution_count": 9,
   "metadata": {},
   "outputs": [],
   "source": [
    "def foodextractor(sent):\n",
    "    toked = tok(sent)\n",
    "    linp = [vocab[vocab.bos_token],]  + vocab[toked] + [vocab[vocab.eos_token]] + [vocab['<sys>']]\n",
    "    inp = torch.tensor(linp)\n",
    "    i=0\n",
    "    while i < 50:\n",
    "        pred = model(inp)[0]\n",
    "        predi = torch.argmax(pred[-1]).item()\n",
    "        if predi == vocab[vocab.eos_token]:\n",
    "            break\n",
    "        linp = linp + [predi]\n",
    "        inp = torch.tensor(linp)\n",
    "    #finalsent = vocab.to_tokens(linp)\n",
    "    foodlist = []\n",
    "    amtlist = []\n",
    "    timelist = []\n",
    "    for i in range(len(np.where(np.array(linp)==7)[0])):\n",
    "        si = np.where(np.array(linp)==7)[0][i]\n",
    "        ei = np.where(np.array(linp)==8)[0][i]\n",
    "        foodlist.append(''.join(vocab.to_tokens(linp[si+1:ei])).replace('▁',' ').strip())\n",
    "    for i in range(len(np.where(np.array(linp)==9)[0])):\n",
    "        si = np.where(np.array(linp)==9)[0][i]\n",
    "        ei = np.where(np.array(linp)==10)[0][i]\n",
    "        amtlist.append(''.join(vocab.to_tokens(linp[si+1:ei])).replace('▁',' ').strip())\n",
    "    for i in range(len(np.where(np.array(linp)==11)[0])):\n",
    "        si = np.where(np.array(linp)==11)[0][i]\n",
    "        ei = np.where(np.array(linp)==12)[0][i]\n",
    "        timelist.append(''.join(vocab.to_tokens(linp[si+1:ei])).replace('▁',' ').strip())\n",
    "    print('입력: ', sent)\n",
    "    print('먹은 음식: ', foodlist)\n",
    "    print('양: ', amtlist)\n",
    "    print('시기: ', timelist)\n",
    "    #print('실제 Output:')\n",
    "    #print(''.join(vocab.to_tokens(linp)).replace('▁',' ').strip())"
   ]
  },
  {
   "cell_type": "code",
   "execution_count": 10,
   "metadata": {},
   "outputs": [
    {
     "name": "stdout",
     "output_type": "stream",
     "text": [
      "입력:  내일 식사는 점심으로 어복쟁반 다섯 조각, 총각 김치 반 조각을 쪼금 먹음\n",
      "먹은 음식:  ['어복쟁반', '총각 김치']\n",
      "양:  ['다섯 조각', '반 조각']\n",
      "시기:  ['점심']\n"
     ]
    }
   ],
   "source": [
    "exampler()"
   ]
  },
  {
   "cell_type": "code",
   "execution_count": 61,
   "metadata": {},
   "outputs": [
    {
     "name": "stdout",
     "output_type": "stream",
     "text": [
      "오늘 3시 30분에 김치 두조각과 밥 한공기를 먹었음\n",
      "입력:  오늘 3시 30분에 김치 두조각과 밥 한공기를 먹었음\n",
      "먹은 음식:  ['김치', '밥']\n",
      "양:  ['두 조각', '한 공기']\n",
      "시기:  ['간식']\n"
     ]
    }
   ],
   "source": [
    "sent = input()\n",
    "foodextractor(sent)"
   ]
  },
  {
   "cell_type": "code",
   "execution_count": null,
   "metadata": {},
   "outputs": [],
   "source": [
    "#debugging"
   ]
  },
  {
   "cell_type": "code",
   "execution_count": null,
   "metadata": {},
   "outputs": [],
   "source": [
    "sent = '오늘 간식으로 부침개 하나 먹었다'\n",
    "toked = tok(sent)\n",
    "linp = [vocab[vocab.bos_token],]  + vocab[toked] + [vocab[vocab.eos_token]] + [vocab['<sys>']]\n",
    "inp = torch.tensor(linp)\n",
    "i=0\n",
    "while i < 50:\n",
    "    pred = model(inp)[0]\n",
    "    predi = torch.argmax(pred[-1]).item()\n",
    "    if predi == vocab[vocab.eos_token]:\n",
    "        break\n",
    "    linp = linp + [predi]\n",
    "    inp = torch.tensor(linp)\n",
    "#finalsent = vocab.to_tokens(linp)\n",
    "foodlist = []\n",
    "amtlist = []\n",
    "timelist = []\n",
    "for i in range(len(np.where(np.array(linp)==7)[0])):\n",
    "    si = np.where(np.array(linp)==7)[0][i]\n",
    "    ei = np.where(np.array(linp)==8)[0][i]\n",
    "    foodlist.append(''.join(vocab.to_tokens(linp[si+1:ei])).replace('▁',' ').strip())\n",
    "for i in range(len(np.where(np.array(linp)==9)[0])):\n",
    "    si = np.where(np.array(linp)==9)[0][i]\n",
    "    ei = np.where(np.array(linp)==10)[0][i]\n",
    "    amtlist.append(''.join(vocab.to_tokens(linp[si+1:ei])).replace('▁',' ').strip())\n",
    "for i in range(len(np.where(np.array(linp)==11)[0])):\n",
    "    si = np.where(np.array(linp)==11)[0][i]\n",
    "    ei = np.where(np.array(linp)==12)[0][i]\n",
    "    timelist.append(''.join(vocab.to_tokens(linp[si+1:ei])).replace('▁',' ').strip())\n",
    "print('입력: ', sent)\n",
    "print('먹은 음식: ', foodlist)\n",
    "print('양: ', amtlist)\n",
    "print('시기: ', timelist)"
   ]
  },
  {
   "cell_type": "code",
   "execution_count": 115,
   "metadata": {},
   "outputs": [
    {
     "data": {
      "text/plain": [
       "['<s>',\n",
       " '▁오늘',\n",
       " '▁간',\n",
       " '식으로',\n",
       " '▁부',\n",
       " '침',\n",
       " '개',\n",
       " '▁하나',\n",
       " '▁먹었다',\n",
       " '</s>',\n",
       " '<sys>',\n",
       " '<unused5>',\n",
       " '▁간식',\n",
       " '<unused6>',\n",
       " '<unused1>',\n",
       " '▁부',\n",
       " '침',\n",
       " '개',\n",
       " '<unused2>',\n",
       " '<unused3>',\n",
       " '▁하나',\n",
       " '<unused2>',\n",
       " '<unused3>',\n",
       " '▁N',\n",
       " 'one',\n",
       " '<unused4>']"
      ]
     },
     "execution_count": 115,
     "metadata": {},
     "output_type": "execute_result"
    }
   ],
   "source": [
    "vocab.to_tokens(linp)"
   ]
  },
  {
   "cell_type": "code",
   "execution_count": 101,
   "metadata": {},
   "outputs": [],
   "source": [
    "import konlpy\n",
    "from konlpy.tag import Okt"
   ]
  },
  {
   "cell_type": "code",
   "execution_count": 102,
   "metadata": {},
   "outputs": [],
   "source": [
    "okt = Okt()"
   ]
  },
  {
   "cell_type": "code",
   "execution_count": 103,
   "metadata": {},
   "outputs": [
    {
     "name": "stdout",
     "output_type": "stream",
     "text": [
      "오늘 점심으로 제육볶음이랑 밥 한공기 먹었어\n"
     ]
    },
    {
     "data": {
      "text/plain": [
       "[('오늘', 'Noun'),\n",
       " ('점심', 'Noun'),\n",
       " ('으로', 'Josa'),\n",
       " ('제', 'Modifier'),\n",
       " ('육', 'Modifier'),\n",
       " ('볶음', 'Noun'),\n",
       " ('이랑', 'Josa'),\n",
       " ('밥', 'Noun'),\n",
       " ('한', 'Determiner'),\n",
       " ('공기', 'Noun'),\n",
       " ('먹었어', 'Verb')]"
      ]
     },
     "execution_count": 103,
     "metadata": {},
     "output_type": "execute_result"
    }
   ],
   "source": [
    "inp = input()\n",
    "okt.pos(inp)"
   ]
  }
 ],
 "metadata": {
  "kernelspec": {
   "display_name": "Python 3",
   "language": "python",
   "name": "python3"
  },
  "language_info": {
   "codemirror_mode": {
    "name": "ipython",
    "version": 3
   },
   "file_extension": ".py",
   "mimetype": "text/x-python",
   "name": "python",
   "nbconvert_exporter": "python",
   "pygments_lexer": "ipython3",
   "version": "3.7.4"
  }
 },
 "nbformat": 4,
 "nbformat_minor": 2
}
