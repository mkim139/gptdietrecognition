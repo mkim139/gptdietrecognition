{
 "cells": [
  {
   "cell_type": "code",
   "execution_count": 1,
   "metadata": {},
   "outputs": [
    {
     "name": "stdout",
     "output_type": "stream",
     "text": [
      "Populating the interactive namespace from numpy and matplotlib\n"
     ]
    }
   ],
   "source": [
    "%pylab inline\n",
    "import pandas as pd\n",
    "import random as rd"
   ]
  },
  {
   "cell_type": "code",
   "execution_count": 2,
   "metadata": {},
   "outputs": [],
   "source": [
    "df = pd.read_excel('C:/Users/mskim3/Desktop/식단인식_알고리즘/data/식단인식_Dataset.xlsx',sheet_name='표현_조합_Description',encocding='cp949')[['오프닝','식사시기','sep','받침sep','조사','받침조사','끝 맺음','Noise','식사시기2']]\n",
    "fn = pd.read_excel('C:/Users/mskim3/Desktop/식단인식_알고리즘/data/식단인식_Dataset.xlsx',sheet_name='음식',encocding='cp949')"
   ]
  },
  {
   "cell_type": "code",
   "execution_count": 3,
   "metadata": {},
   "outputs": [],
   "source": [
    "랑이랑 = []\n",
    "와과 = []\n",
    "하고 = []\n",
    "콤마 = []\n",
    "없음 = []\n",
    "for i in range(shape(fn)[0]):\n",
    "    if fn['받침'].iloc[i]==0:\n",
    "        랑이랑.append(fn['음식이름'].iloc[i]+'랑')\n",
    "        와과.append(fn['음식이름'].iloc[i]+'와')\n",
    "    else :\n",
    "        랑이랑.append(fn['음식이름'].iloc[i]+'이랑')\n",
    "        와과.append(fn['음식이름'].iloc[i]+'과')\n",
    "    하고.append(fn['음식이름'].iloc[i]+'하고')\n",
    "    콤마.append(fn['음식이름'].iloc[i]+',')\n",
    "    없음.append(fn['음식이름'].iloc[i])\n",
    "\n",
    "을를 = []\n",
    "for i in range(shape(fn)[0]):\n",
    "    if fn['받침'].iloc[i]==0:\n",
    "        을를.append(fn['음식이름'].iloc[i]+'를')\n",
    "    else :\n",
    "        을를.append(fn['음식이름'].iloc[i]+'을')"
   ]
  },
  {
   "cell_type": "code",
   "execution_count": 4,
   "metadata": {},
   "outputs": [],
   "source": [
    "랑이랑2 = []\n",
    "와과2 = []\n",
    "하고2 = []\n",
    "콤마2 = []\n",
    "없음2 = []\n",
    "for i in range(shape(fn)[0]):\n",
    "    if fn['받침2'].iloc[i]==0:\n",
    "        랑이랑2.append(fn['개량'].iloc[i]+'랑')\n",
    "        와과2.append(fn['개량'].iloc[i]+'와')\n",
    "    else :\n",
    "        랑이랑2.append(fn['개량'].iloc[i]+'이랑')\n",
    "        와과2.append(fn['개량'].iloc[i]+'과')\n",
    "    하고2.append(fn['개량'].iloc[i]+'하고')\n",
    "    콤마2.append(fn['개량'].iloc[i]+',')\n",
    "    없음2.append(fn['개량'].iloc[i])\n",
    "\n",
    "을를2 = []\n",
    "for i in range(shape(fn)[0]):\n",
    "    if fn['받침2'].iloc[i]==0:\n",
    "        을를2.append(fn['개량'].iloc[i]+'를')\n",
    "    else :\n",
    "        을를2.append(fn['개량'].iloc[i]+'을')"
   ]
  },
  {
   "cell_type": "code",
   "execution_count": 11,
   "metadata": {},
   "outputs": [],
   "source": [
    "opening = df['오프닝'][df['오프닝'].notnull()].to_list()\n",
    "opening.append(None)\n",
    "time = df['식사시기'][df['식사시기'].notnull()].to_list()\n",
    "time.append(None)\n",
    "adverb = df['Noise'][df['Noise'].notnull()].to_list()\n",
    "adverb.append(None)\n",
    "finish = df['끝 맺음'][df['끝 맺음'].notnull()].to_list()\n",
    "finish.append(None)"
   ]
  },
  {
   "cell_type": "code",
   "execution_count": 22,
   "metadata": {
    "collapsed": true
   },
   "outputs": [
    {
     "ename": "KeyboardInterrupt",
     "evalue": "",
     "output_type": "error",
     "traceback": [
      "\u001b[1;31m---------------------------------------------------------------------------\u001b[0m",
      "\u001b[1;31mKeyboardInterrupt\u001b[0m                         Traceback (most recent call last)",
      "\u001b[1;32m<ipython-input-22-6efecddef17a>\u001b[0m in \u001b[0;36m<module>\u001b[1;34m\u001b[0m\n\u001b[0;32m     12\u001b[0m     \u001b[0mc\u001b[0m \u001b[1;33m=\u001b[0m \u001b[0mrd\u001b[0m\u001b[1;33m.\u001b[0m\u001b[0mchoice\u001b[0m\u001b[1;33m(\u001b[0m\u001b[0m을를\u001b[0m\u001b[1;33m)\u001b[0m\u001b[1;33m\u001b[0m\u001b[1;33m\u001b[0m\u001b[0m\n\u001b[0;32m     13\u001b[0m     \u001b[0mflist\u001b[0m\u001b[1;33m.\u001b[0m\u001b[0mappend\u001b[0m\u001b[1;33m(\u001b[0m\u001b[0mc\u001b[0m\u001b[1;33m)\u001b[0m\u001b[1;33m\u001b[0m\u001b[1;33m\u001b[0m\u001b[0m\n\u001b[1;32m---> 14\u001b[1;33m     \u001b[0mtempext\u001b[0m\u001b[1;33m.\u001b[0m\u001b[0mappend\u001b[0m\u001b[1;33m(\u001b[0m\u001b[0mpd\u001b[0m\u001b[1;33m.\u001b[0m\u001b[0mSeries\u001b[0m\u001b[1;33m(\u001b[0m\u001b[0m없음\u001b[0m\u001b[1;33m)\u001b[0m\u001b[1;33m[\u001b[0m\u001b[0mpd\u001b[0m\u001b[1;33m.\u001b[0m\u001b[0mSeries\u001b[0m\u001b[1;33m(\u001b[0m\u001b[0m을를\u001b[0m\u001b[1;33m)\u001b[0m\u001b[1;33m==\u001b[0m\u001b[0mc\u001b[0m\u001b[1;33m]\u001b[0m\u001b[1;33m.\u001b[0m\u001b[0mtolist\u001b[0m\u001b[1;33m(\u001b[0m\u001b[1;33m)\u001b[0m\u001b[1;33m[\u001b[0m\u001b[1;36m0\u001b[0m\u001b[1;33m]\u001b[0m\u001b[1;33m)\u001b[0m\u001b[1;33m\u001b[0m\u001b[1;33m\u001b[0m\u001b[0m\n\u001b[0m\u001b[0;32m     15\u001b[0m     \u001b[1;31m#tempext = ', '.join(tempext)\u001b[0m\u001b[1;33m\u001b[0m\u001b[1;33m\u001b[0m\u001b[1;33m\u001b[0m\u001b[0m\n\u001b[0;32m     16\u001b[0m     \u001b[0mextfoods\u001b[0m\u001b[1;33m.\u001b[0m\u001b[0mappend\u001b[0m\u001b[1;33m(\u001b[0m\u001b[0mtempext\u001b[0m\u001b[1;33m)\u001b[0m\u001b[1;33m\u001b[0m\u001b[1;33m\u001b[0m\u001b[0m\n",
      "\u001b[1;32m~\\AppData\\Local\\Continuum\\anaconda3\\lib\\site-packages\\pandas\\core\\series.py\u001b[0m in \u001b[0;36m__getitem__\u001b[1;34m(self, key)\u001b[0m\n\u001b[0;32m   1066\u001b[0m         \u001b[0mkey\u001b[0m \u001b[1;33m=\u001b[0m \u001b[0mcom\u001b[0m\u001b[1;33m.\u001b[0m\u001b[0mapply_if_callable\u001b[0m\u001b[1;33m(\u001b[0m\u001b[0mkey\u001b[0m\u001b[1;33m,\u001b[0m \u001b[0mself\u001b[0m\u001b[1;33m)\u001b[0m\u001b[1;33m\u001b[0m\u001b[1;33m\u001b[0m\u001b[0m\n\u001b[0;32m   1067\u001b[0m         \u001b[1;32mtry\u001b[0m\u001b[1;33m:\u001b[0m\u001b[1;33m\u001b[0m\u001b[1;33m\u001b[0m\u001b[0m\n\u001b[1;32m-> 1068\u001b[1;33m             \u001b[0mresult\u001b[0m \u001b[1;33m=\u001b[0m \u001b[0mself\u001b[0m\u001b[1;33m.\u001b[0m\u001b[0mindex\u001b[0m\u001b[1;33m.\u001b[0m\u001b[0mget_value\u001b[0m\u001b[1;33m(\u001b[0m\u001b[0mself\u001b[0m\u001b[1;33m,\u001b[0m \u001b[0mkey\u001b[0m\u001b[1;33m)\u001b[0m\u001b[1;33m\u001b[0m\u001b[1;33m\u001b[0m\u001b[0m\n\u001b[0m\u001b[0;32m   1069\u001b[0m \u001b[1;33m\u001b[0m\u001b[0m\n\u001b[0;32m   1070\u001b[0m             \u001b[1;32mif\u001b[0m \u001b[1;32mnot\u001b[0m \u001b[0mis_scalar\u001b[0m\u001b[1;33m(\u001b[0m\u001b[0mresult\u001b[0m\u001b[1;33m)\u001b[0m\u001b[1;33m:\u001b[0m\u001b[1;33m\u001b[0m\u001b[1;33m\u001b[0m\u001b[0m\n",
      "\u001b[1;32m~\\AppData\\Local\\Continuum\\anaconda3\\lib\\site-packages\\pandas\\core\\indexes\\base.py\u001b[0m in \u001b[0;36mget_value\u001b[1;34m(self, series, key)\u001b[0m\n\u001b[0;32m   4728\u001b[0m         \u001b[0mk\u001b[0m \u001b[1;33m=\u001b[0m \u001b[0mself\u001b[0m\u001b[1;33m.\u001b[0m\u001b[0m_convert_scalar_indexer\u001b[0m\u001b[1;33m(\u001b[0m\u001b[0mk\u001b[0m\u001b[1;33m,\u001b[0m \u001b[0mkind\u001b[0m\u001b[1;33m=\u001b[0m\u001b[1;34m\"getitem\"\u001b[0m\u001b[1;33m)\u001b[0m\u001b[1;33m\u001b[0m\u001b[1;33m\u001b[0m\u001b[0m\n\u001b[0;32m   4729\u001b[0m         \u001b[1;32mtry\u001b[0m\u001b[1;33m:\u001b[0m\u001b[1;33m\u001b[0m\u001b[1;33m\u001b[0m\u001b[0m\n\u001b[1;32m-> 4730\u001b[1;33m             \u001b[1;32mreturn\u001b[0m \u001b[0mself\u001b[0m\u001b[1;33m.\u001b[0m\u001b[0m_engine\u001b[0m\u001b[1;33m.\u001b[0m\u001b[0mget_value\u001b[0m\u001b[1;33m(\u001b[0m\u001b[0ms\u001b[0m\u001b[1;33m,\u001b[0m \u001b[0mk\u001b[0m\u001b[1;33m,\u001b[0m \u001b[0mtz\u001b[0m\u001b[1;33m=\u001b[0m\u001b[0mgetattr\u001b[0m\u001b[1;33m(\u001b[0m\u001b[0mseries\u001b[0m\u001b[1;33m.\u001b[0m\u001b[0mdtype\u001b[0m\u001b[1;33m,\u001b[0m \u001b[1;34m\"tz\"\u001b[0m\u001b[1;33m,\u001b[0m \u001b[1;32mNone\u001b[0m\u001b[1;33m)\u001b[0m\u001b[1;33m)\u001b[0m\u001b[1;33m\u001b[0m\u001b[1;33m\u001b[0m\u001b[0m\n\u001b[0m\u001b[0;32m   4731\u001b[0m         \u001b[1;32mexcept\u001b[0m \u001b[0mKeyError\u001b[0m \u001b[1;32mas\u001b[0m \u001b[0me1\u001b[0m\u001b[1;33m:\u001b[0m\u001b[1;33m\u001b[0m\u001b[1;33m\u001b[0m\u001b[0m\n\u001b[0;32m   4732\u001b[0m             \u001b[1;32mif\u001b[0m \u001b[0mlen\u001b[0m\u001b[1;33m(\u001b[0m\u001b[0mself\u001b[0m\u001b[1;33m)\u001b[0m \u001b[1;33m>\u001b[0m \u001b[1;36m0\u001b[0m \u001b[1;32mand\u001b[0m \u001b[1;33m(\u001b[0m\u001b[0mself\u001b[0m\u001b[1;33m.\u001b[0m\u001b[0mholds_integer\u001b[0m\u001b[1;33m(\u001b[0m\u001b[1;33m)\u001b[0m \u001b[1;32mor\u001b[0m \u001b[0mself\u001b[0m\u001b[1;33m.\u001b[0m\u001b[0mis_boolean\u001b[0m\u001b[1;33m(\u001b[0m\u001b[1;33m)\u001b[0m\u001b[1;33m)\u001b[0m\u001b[1;33m:\u001b[0m\u001b[1;33m\u001b[0m\u001b[1;33m\u001b[0m\u001b[0m\n",
      "\u001b[1;32mpandas\\_libs\\properties.pyx\u001b[0m in \u001b[0;36mpandas._libs.properties.CachedProperty.__get__\u001b[1;34m()\u001b[0m\n",
      "\u001b[1;32m~\\AppData\\Local\\Continuum\\anaconda3\\lib\\site-packages\\pandas\\core\\indexes\\base.py\u001b[0m in \u001b[0;36m_engine\u001b[1;34m(self)\u001b[0m\n\u001b[0;32m    714\u001b[0m         \u001b[1;31m# to avoid a reference cycle, bind `_ndarray_values` to a local variable, so\u001b[0m\u001b[1;33m\u001b[0m\u001b[1;33m\u001b[0m\u001b[1;33m\u001b[0m\u001b[0m\n\u001b[0;32m    715\u001b[0m         \u001b[1;31m# `self` is not passed into the lambda.\u001b[0m\u001b[1;33m\u001b[0m\u001b[1;33m\u001b[0m\u001b[1;33m\u001b[0m\u001b[0m\n\u001b[1;32m--> 716\u001b[1;33m         \u001b[0m_ndarray_values\u001b[0m \u001b[1;33m=\u001b[0m \u001b[0mself\u001b[0m\u001b[1;33m.\u001b[0m\u001b[0m_ndarray_values\u001b[0m\u001b[1;33m\u001b[0m\u001b[1;33m\u001b[0m\u001b[0m\n\u001b[0m\u001b[0;32m    717\u001b[0m         \u001b[1;32mreturn\u001b[0m \u001b[0mself\u001b[0m\u001b[1;33m.\u001b[0m\u001b[0m_engine_type\u001b[0m\u001b[1;33m(\u001b[0m\u001b[1;32mlambda\u001b[0m\u001b[1;33m:\u001b[0m \u001b[0m_ndarray_values\u001b[0m\u001b[1;33m,\u001b[0m \u001b[0mlen\u001b[0m\u001b[1;33m(\u001b[0m\u001b[0mself\u001b[0m\u001b[1;33m)\u001b[0m\u001b[1;33m)\u001b[0m\u001b[1;33m\u001b[0m\u001b[1;33m\u001b[0m\u001b[0m\n\u001b[0;32m    718\u001b[0m \u001b[1;33m\u001b[0m\u001b[0m\n",
      "\u001b[1;32m~\\AppData\\Local\\Continuum\\anaconda3\\lib\\site-packages\\pandas\\core\\base.py\u001b[0m in \u001b[0;36m_ndarray_values\u001b[1;34m(self)\u001b[0m\n\u001b[0;32m   1025\u001b[0m         \u001b[1;31m# Special mixin syntax may be developed in the future:\u001b[0m\u001b[1;33m\u001b[0m\u001b[1;33m\u001b[0m\u001b[1;33m\u001b[0m\u001b[0m\n\u001b[0;32m   1026\u001b[0m         \u001b[1;31m# https://github.com/python/typing/issues/246\u001b[0m\u001b[1;33m\u001b[0m\u001b[1;33m\u001b[0m\u001b[1;33m\u001b[0m\u001b[0m\n\u001b[1;32m-> 1027\u001b[1;33m         \u001b[1;32mreturn\u001b[0m \u001b[0mself\u001b[0m\u001b[1;33m.\u001b[0m\u001b[0mvalues\u001b[0m  \u001b[1;31m# type: ignore\u001b[0m\u001b[1;33m\u001b[0m\u001b[1;33m\u001b[0m\u001b[0m\n\u001b[0m\u001b[0;32m   1028\u001b[0m \u001b[1;33m\u001b[0m\u001b[0m\n\u001b[0;32m   1029\u001b[0m     \u001b[1;33m@\u001b[0m\u001b[0mproperty\u001b[0m\u001b[1;33m\u001b[0m\u001b[1;33m\u001b[0m\u001b[0m\n",
      "\u001b[1;32m~\\AppData\\Local\\Continuum\\anaconda3\\lib\\site-packages\\pandas\\core\\indexes\\base.py\u001b[0m in \u001b[0;36mvalues\u001b[1;34m(self)\u001b[0m\n\u001b[0;32m   3919\u001b[0m         \u001b[0mIndex\u001b[0m\u001b[1;33m.\u001b[0m\u001b[0mto_numpy\u001b[0m \u001b[1;33m:\u001b[0m \u001b[0mA\u001b[0m \u001b[0mNumPy\u001b[0m \u001b[0marray\u001b[0m \u001b[0mrepresenting\u001b[0m \u001b[0mthe\u001b[0m \u001b[0munderlying\u001b[0m \u001b[0mdata\u001b[0m\u001b[1;33m.\u001b[0m\u001b[1;33m\u001b[0m\u001b[1;33m\u001b[0m\u001b[0m\n\u001b[0;32m   3920\u001b[0m         \"\"\"\n\u001b[1;32m-> 3921\u001b[1;33m         \u001b[1;32mreturn\u001b[0m \u001b[0mself\u001b[0m\u001b[1;33m.\u001b[0m\u001b[0m_data\u001b[0m\u001b[1;33m.\u001b[0m\u001b[0mview\u001b[0m\u001b[1;33m(\u001b[0m\u001b[0mnp\u001b[0m\u001b[1;33m.\u001b[0m\u001b[0mndarray\u001b[0m\u001b[1;33m)\u001b[0m\u001b[1;33m\u001b[0m\u001b[1;33m\u001b[0m\u001b[0m\n\u001b[0m\u001b[0;32m   3922\u001b[0m \u001b[1;33m\u001b[0m\u001b[0m\n\u001b[0;32m   3923\u001b[0m     \u001b[1;33m@\u001b[0m\u001b[0mproperty\u001b[0m\u001b[1;33m\u001b[0m\u001b[1;33m\u001b[0m\u001b[0m\n",
      "\u001b[1;32m~\\AppData\\Local\\Continuum\\anaconda3\\lib\\site-packages\\pandas\\core\\indexes\\range.py\u001b[0m in \u001b[0;36m_data\u001b[1;34m(self)\u001b[0m\n\u001b[0;32m    190\u001b[0m         \u001b[1;32mif\u001b[0m \u001b[0mself\u001b[0m\u001b[1;33m.\u001b[0m\u001b[0m_cached_data\u001b[0m \u001b[1;32mis\u001b[0m \u001b[1;32mNone\u001b[0m\u001b[1;33m:\u001b[0m\u001b[1;33m\u001b[0m\u001b[1;33m\u001b[0m\u001b[0m\n\u001b[0;32m    191\u001b[0m             self._cached_data = np.arange(\n\u001b[1;32m--> 192\u001b[1;33m                 \u001b[0mself\u001b[0m\u001b[1;33m.\u001b[0m\u001b[0mstart\u001b[0m\u001b[1;33m,\u001b[0m \u001b[0mself\u001b[0m\u001b[1;33m.\u001b[0m\u001b[0mstop\u001b[0m\u001b[1;33m,\u001b[0m \u001b[0mself\u001b[0m\u001b[1;33m.\u001b[0m\u001b[0mstep\u001b[0m\u001b[1;33m,\u001b[0m \u001b[0mdtype\u001b[0m\u001b[1;33m=\u001b[0m\u001b[0mnp\u001b[0m\u001b[1;33m.\u001b[0m\u001b[0mint64\u001b[0m\u001b[1;33m\u001b[0m\u001b[1;33m\u001b[0m\u001b[0m\n\u001b[0m\u001b[0;32m    193\u001b[0m             )\n\u001b[0;32m    194\u001b[0m         \u001b[1;32mreturn\u001b[0m \u001b[0mself\u001b[0m\u001b[1;33m.\u001b[0m\u001b[0m_cached_data\u001b[0m\u001b[1;33m\u001b[0m\u001b[1;33m\u001b[0m\u001b[0m\n",
      "\u001b[1;31mKeyboardInterrupt\u001b[0m: "
     ]
    }
   ],
   "source": [
    "sentence = []\n",
    "extfoods = []\n",
    "for j in range(50000):\n",
    "    foodcount = rd.choices([1,2,3,4,5],[.2,4,.2,.1,.1])[0]\n",
    "    flist = []\n",
    "    tempext = []\n",
    "    for i in range(foodcount-1):\n",
    "        num = rd.choice([0,1,2,3,4])\n",
    "        c = rd.choice([랑이랑,와과,없음,하고,콤마][num])\n",
    "        tempext.append(pd.Series(없음)[pd.Series([랑이랑,와과,없음,하고,콤마][num])==c].tolist()[0])\n",
    "        flist.append(c)\n",
    "    c = rd.choice(을를)\n",
    "    flist.append(c)\n",
    "    tempext.append(pd.Series(없음)[pd.Series(을를)==c].tolist()[0])\n",
    "    #tempext = ', '.join(tempext)\n",
    "    extfoods.append(tempext)\n",
    "    foods = ' '.join(flist)\n",
    "    o = rd.choice(opening)\n",
    "    t = rd.choice(time)\n",
    "    a = rd.choice(adverb)\n",
    "    f = rd.choice(finish)\n",
    "    check = []\n",
    "    for x in [o,t,foods,a,f]:\n",
    "        if x!=None:\n",
    "            check.append(x)\n",
    "        else: continue\n",
    "    sentence.append(' '.join(check))"
   ]
  },
  {
   "cell_type": "code",
   "execution_count": null,
   "metadata": {},
   "outputs": [],
   "source": [
    "sentence = []\n",
    "extfoods = []\n",
    "for j in range(50000):\n",
    "    foodcount = rd.choices([1,2,3,4,5],[.2,4,.2,.1,.1])[0]\n",
    "    flist = []\n",
    "    tempext = []\n",
    "    for i in range(foodcount-1):\n",
    "        num = rd.choice([0,1,2,3,4])\n",
    "        c = rd.choice([랑이랑,와과,없음,하고,콤마][num])\n",
    "        tempext.append(pd.Series(없음)[pd.Series([랑이랑,와과,없음,하고,콤마][num])==c].tolist()[0])\n",
    "        flist.append(c)\n",
    "    c = rd.choice(을를)\n",
    "    flist.append(c)\n",
    "    tempext.append(pd.Series(없음)[pd.Series(을를)==c].tolist()[0])\n",
    "    #tempext = ', '.join(tempext)\n",
    "    extfoods.append(tempext)\n",
    "    foods = ' '.join(flist)\n",
    "    o = rd.choice(opening)\n",
    "    t = rd.choice(time)\n",
    "    a = rd.choice(adverb)\n",
    "    f = rd.choice(finish)\n",
    "    check = []\n",
    "    for x in [o,t,foods,a,f]:\n",
    "        if x!=None:\n",
    "            check.append(x)\n",
    "        else: continue\n",
    "    sentence.append(' '.join(check))"
   ]
  },
  {
   "cell_type": "code",
   "execution_count": 287,
   "metadata": {},
   "outputs": [],
   "source": [
    "sentence = []\n",
    "extfoods = []\n",
    "foodamt = []\n",
    "period = []\n",
    "\n",
    "for x in range(50):\n",
    "    foodcount = rd.choices([1,2,3,4,5],[.2,4,.2,.1,.1])[0]\n",
    "    flist = []\n",
    "    tempext = []\n",
    "    tempamt = []\n",
    "    for i in range(foodcount-1):\n",
    "        cd = rd.choices([0,1],[.2,.8])[0]\n",
    "        if cd ==0:\n",
    "            num = rd.choice([0,1,2,3,4])\n",
    "            c = rd.choice([랑이랑,와과,없음,하고,콤마][num])\n",
    "            tempext.append(pd.Series(없음)[pd.Series([랑이랑,와과,없음,하고,콤마][num])==c].tolist()[0])\n",
    "            flist.append(c)\n",
    "            tempamt.append('None')\n",
    "        else:\n",
    "            c1 = rd.choice(없음)\n",
    "            c = rd.choice([랑이랑2,와과2,없음2,하고2,콤마2])\n",
    "            c = pd.Series(c)[pd.Series(없음)==c1].iloc[0]\n",
    "            c2 = pd.Series(없음2)[pd.Series(없음)==c1].iloc[0]\n",
    "            if pd.Series(fn['수식'])[pd.Series(없음)==c1].iloc[0] ==0:\n",
    "                cnt = rd.choice(fn['개량수식'].dropna().to_list())\n",
    "            else : \n",
    "                cnt = rd.choice(fn['개량수식2'].dropna().to_list())\n",
    "            tempext.append(c1)\n",
    "            nc = c1 + ' ' + cnt + ' ' + c\n",
    "            flist.append(nc)\n",
    "            tempamt.append(cnt + ' ' + c2)\n",
    "        cd = rd.choices([0,1],[.2,.8])[0]\n",
    "    if cd == 0 :\n",
    "        c = rd.choice(을를)\n",
    "        flist.append(c)\n",
    "        tempext.append(pd.Series(없음)[pd.Series(을를)==c].tolist()[0])\n",
    "        tempamt.append('None')\n",
    "    else :\n",
    "        c1 = rd.choice(없음)\n",
    "        c = pd.Series(을를2)[pd.Series(없음)==c1].iloc[0]\n",
    "        c2 = pd.Series(없음2)[pd.Series(없음)==c1].iloc[0]\n",
    "        if pd.Series(fn['수식'])[pd.Series(없음)==c1].iloc[0] ==0:\n",
    "            cnt = rd.choice(fn['개량수식'].dropna().to_list())\n",
    "        else : \n",
    "            cnt = rd.choice(fn['개량수식2'].dropna().to_list())\n",
    "        nc = c1 + ' ' + cnt + ' ' + c\n",
    "        flist.append(nc)\n",
    "        tempext.append(c1)\n",
    "        tempamt.append(cnt + ' ' + c2)\n",
    "    extfoods.append(tempext)\n",
    "    foodamt.append(tempamt)\n",
    "    foods = ' '.join(flist)\n",
    "    o = rd.choice(opening)\n",
    "    t = rd.choice(time)\n",
    "    try :\n",
    "        period.append(pd.Series(df['식사시기2'])[pd.Series(df['식사시기'])==t].iloc[0])\n",
    "    except:\n",
    "        period.append('None')\n",
    "    a = rd.choice(adverb)\n",
    "    f = rd.choice(finish)\n",
    "    check = []\n",
    "    for x in [o,t,foods,a,f]:\n",
    "        if x!=None:\n",
    "            check.append(x)\n",
    "        else: continue\n",
    "    sentence.append(' '.join(check))"
   ]
  },
  {
   "cell_type": "code",
   "execution_count": 7,
   "metadata": {},
   "outputs": [],
   "source": [
    "final = pd.concat([pd.Series(sentence),pd.Series(extfoods)],axis=1)\n",
    "final.columns = ['sentence','foodlist']"
   ]
  },
  {
   "cell_type": "code",
   "execution_count": 18,
   "metadata": {},
   "outputs": [],
   "source": [
    "from sklearn.model_selection import train_test_split as tts"
   ]
  },
  {
   "cell_type": "code",
   "execution_count": 13,
   "metadata": {},
   "outputs": [],
   "source": [
    "train, temp = tts(final)\n",
    "val, test= tts(temp)"
   ]
  },
  {
   "cell_type": "code",
   "execution_count": 20,
   "metadata": {},
   "outputs": [],
   "source": [
    "train = train.reset_index(drop=True)\n",
    "val = val.reset_index(drop=True)\n",
    "test = test.reset_index(drop=True)"
   ]
  },
  {
   "cell_type": "code",
   "execution_count": 21,
   "metadata": {},
   "outputs": [],
   "source": [
    "# final.to_csv('C:/Users/mskim3/Desktop/식단인식_알고리즘/data/dataset.csv',encoding='cp949')\n",
    "train.to_csv('C:/Users/mskim3/Desktop/식단인식_알고리즘/data/fe_train.csv',encoding='cp949')\n",
    "val.to_csv('C:/Users/mskim3/Desktop/식단인식_알고리즘/data/fe_val.csv',encoding='cp949')\n",
    "test.to_csv('C:/Users/mskim3/Desktop/식단인식_알고리즘/data/fe_test.csv',encoding='cp949')"
   ]
  },
  {
   "cell_type": "code",
   "execution_count": 23,
   "metadata": {},
   "outputs": [],
   "source": [
    "train.to_csv('C:/Users/mskim3/Desktop/식단인식_알고리즘/data/fe_train.txt',encoding='UTF-8',sep='\\t',index=False)\n",
    "val.to_csv('C:/Users/mskim3/Desktop/식단인식_알고리즘/data/fe_val.txt',encoding='UTF-8',sep='\\t',index=False)\n",
    "test.to_csv('C:/Users/mskim3/Desktop/식단인식_알고리즘/data/fe_test.txt',encoding='UTF-8',sep='\\t',index=False)"
   ]
  },
  {
   "cell_type": "markdown",
   "metadata": {},
   "source": [
    "#### complicated"
   ]
  },
  {
   "cell_type": "code",
   "execution_count": 6,
   "metadata": {},
   "outputs": [],
   "source": [
    "sentence = []\n",
    "extfoods = []\n",
    "foodamt = []\n",
    "period = []\n",
    "\n",
    "for x in range(100000):\n",
    "    foodcount = rd.choices([1,2,3,4,5],[.2,4,.2,.1,.1])[0]\n",
    "    flist = []\n",
    "    tempext = []\n",
    "    tempamt = []\n",
    "    for i in range(foodcount-1):\n",
    "        cd = rd.choices([0,1],[.2,.8])[0]\n",
    "        if cd ==0:\n",
    "            num = rd.choice([0,1,2,3,4])\n",
    "            c = rd.choice([랑이랑,와과,없음,하고,콤마][num])\n",
    "            tempext.append(pd.Series(없음)[pd.Series([랑이랑,와과,없음,하고,콤마][num])==c].tolist()[0])\n",
    "            flist.append(c)\n",
    "            tempamt.append('None')\n",
    "        else:\n",
    "            c1 = rd.choice(없음)\n",
    "            c = rd.choice([랑이랑2,와과2,없음2,하고2,콤마2])\n",
    "            c = pd.Series(c)[pd.Series(없음)==c1].iloc[0]\n",
    "            c2 = pd.Series(없음2)[pd.Series(없음)==c1].iloc[0]\n",
    "            if pd.Series(fn['수식'])[pd.Series(없음)==c1].iloc[0] ==0:\n",
    "                cnt = rd.choice(fn['개량수식'].dropna().to_list())\n",
    "            else : \n",
    "                cnt = rd.choice(fn['개량수식2'].dropna().to_list())\n",
    "            tempext.append(c1)\n",
    "            nc = c1 + ' ' + cnt + ' ' + c\n",
    "            flist.append(nc)\n",
    "            tempamt.append(cnt + ' ' + c2)\n",
    "        cd = rd.choices([0,1],[.2,.8])[0]\n",
    "    if cd == 0 :\n",
    "        c = rd.choice(을를)\n",
    "        flist.append(c)\n",
    "        tempext.append(pd.Series(없음)[pd.Series(을를)==c].tolist()[0])\n",
    "        tempamt.append('None')\n",
    "    else :\n",
    "        c1 = rd.choice(없음)\n",
    "        c = pd.Series(을를2)[pd.Series(없음)==c1].iloc[0]\n",
    "        c2 = pd.Series(없음2)[pd.Series(없음)==c1].iloc[0]\n",
    "        if pd.Series(fn['수식'])[pd.Series(없음)==c1].iloc[0] ==0:\n",
    "            cnt = rd.choice(fn['개량수식'].dropna().to_list())\n",
    "        else : \n",
    "            cnt = rd.choice(fn['개량수식2'].dropna().to_list())\n",
    "        nc = c1 + ' ' + cnt + ' ' + c\n",
    "        flist.append(nc)\n",
    "        tempext.append(c1)\n",
    "        tempamt.append(cnt + ' ' + c2)\n",
    "    extfoods.append(tempext)\n",
    "    foodamt.append(tempamt)\n",
    "    foods = ' '.join(flist)\n",
    "    o = rd.choice(opening)\n",
    "    t = rd.choice(time)\n",
    "    try :\n",
    "        period.append(pd.Series(df['식사시기2'])[pd.Series(df['식사시기'])==t].iloc[0])\n",
    "    except:\n",
    "        period.append('None')\n",
    "    a = rd.choice(adverb)\n",
    "    f = rd.choice(finish)\n",
    "    check = []\n",
    "    for x in [o,t,foods,a,f]:\n",
    "        if x!=None:\n",
    "            check.append(x)\n",
    "        else: continue\n",
    "    sentence.append(' '.join(check))"
   ]
  },
  {
   "cell_type": "code",
   "execution_count": 15,
   "metadata": {},
   "outputs": [],
   "source": [
    "final2 = pd.concat([pd.Series(sentence),pd.Series(extfoods),pd.Series(foodamt),pd.Series(period)],axis=1)\n",
    "final2.columns = ['sent','foods','amt','period']"
   ]
  },
  {
   "cell_type": "code",
   "execution_count": 19,
   "metadata": {},
   "outputs": [],
   "source": [
    "train, temp = tts(final2)\n",
    "val, test= tts(temp)"
   ]
  },
  {
   "cell_type": "code",
   "execution_count": 20,
   "metadata": {},
   "outputs": [],
   "source": [
    "train = train.reset_index(drop=True)\n",
    "val = val.reset_index(drop=True)\n",
    "test = test.reset_index(drop=True)"
   ]
  },
  {
   "cell_type": "code",
   "execution_count": 21,
   "metadata": {},
   "outputs": [],
   "source": [
    "train.to_csv('C:/Users/mskim3/Desktop/식단인식_알고리즘/data/fe_train2.txt',encoding='UTF-8',sep='\\t',index=False)\n",
    "val.to_csv('C:/Users/mskim3/Desktop/식단인식_알고리즘/data/fe_val2.txt',encoding='UTF-8',sep='\\t',index=False)\n",
    "test.to_csv('C:/Users/mskim3/Desktop/식단인식_알고리즘/data/fe_test2.txt',encoding='UTF-8',sep='\\t',index=False)"
   ]
  },
  {
   "cell_type": "code",
   "execution_count": 25,
   "metadata": {},
   "outputs": [],
   "source": [
    "train.to_csv('C:/Users/mskim3/Desktop/식단인식_알고리즘/data/fe_train2.csv',encoding='cp949')\n",
    "val.to_csv('C:/Users/mskim3/Desktop/식단인식_알고리즘/data/fe_val2.csv',encoding='cp949')\n",
    "test.to_csv('C:/Users/mskim3/Desktop/식단인식_알고리즘/data/fe_test2.csv',encoding='cp949')"
   ]
  }
 ],
 "metadata": {
  "kernelspec": {
   "display_name": "Python 3",
   "language": "python",
   "name": "python3"
  },
  "language_info": {
   "codemirror_mode": {
    "name": "ipython",
    "version": 3
   },
   "file_extension": ".py",
   "mimetype": "text/x-python",
   "name": "python",
   "nbconvert_exporter": "python",
   "pygments_lexer": "ipython3",
   "version": "3.7.4"
  }
 },
 "nbformat": 4,
 "nbformat_minor": 2
}
